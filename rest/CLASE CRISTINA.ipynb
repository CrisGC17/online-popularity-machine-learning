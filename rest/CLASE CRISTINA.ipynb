{
 "cells": [
  {
   "cell_type": "code",
   "execution_count": null,
   "metadata": {
    "collapsed": true
   },
   "outputs": [],
   "source": []
  },
  {
   "cell_type": "code",
   "execution_count": null,
   "metadata": {
    "collapsed": true
   },
   "outputs": [],
   "source": [
    "class Data(object):\n",
    "            \n",
    "    # load and clean database \n",
    "    def clean_df(self):\n",
    "        df_ini = pd.read_csv('/Users/cristinagomez/Downloads/OnlineNewsPopularity/OnlineNewsPopularity.csv')\n",
    "        df_ini.columns = [x.strip().replace(' ', '') for x in df.columns]\n",
    "        return df_ini\n",
    "    \n",
    "    # function with targets transformation\n",
    "    def df_tran(self, df):\n",
    "    df = df[df['shares'] < 20000]\n",
    "        df['shares_log'] = np.log1p(df.shares)\n",
    "        df[\"y\"] = df['shares_log']\n",
    "        df[\"y_c\"] = df['shares_log'].map(lambda x: 1 if x >7.24  else 0)  # create column popularity median target = 7.24\n",
    "        return df\n",
    "    df = df_tran(df)  \n",
    "\n",
    "\n",
    "# features\n",
    "cols =['shares_log','shares','url','y','y_c']\n",
    "\n",
    "X_col = [col for col in df.columns if col not in cols]\n",
    "X = df[X_col]\n",
    "\n",
    "\n",
    "    \n",
    "from sklearn.ensemble import RandomForestClassifier\n",
    "from sklearn.metrics import accuracy_score    \n",
    "def test_model(X, y,names, models, parameters, q = False):\n",
    "    dict_of_models = {}\n",
    "    \n",
    "    for name, model, param in zip(names, models, parameters):\n",
    "        if q: param = {}\n",
    "        gs = GridSearchCV(model, param_grid=param, cv=3)\n",
    "        gs.fit(X, y)\n",
    "        score = accuracy_score(y, cross_val_predict(gs.best_estimator_, X, y))\n",
    "        dict_of_models[name] = gs\n",
    "        print ((name+ ' acc score:').ljust(14), score)\n",
    "    return dict_of_models\n",
    "\n",
    "model_names =['LogisticRegression','RandomForest']\n",
    "models = [LogisticRegression(), RandomForestClassifier()]\n",
    "\n",
    "lr_params = {'penalty': ['l1','l2'], 'C': np.logspace(-3, 3, 10)}\n",
    "rf_params = {'max_features': [0.5], 'n_estimators':[600]}\n",
    "\n",
    "params = [lr_params, rf_params]\n",
    "\n",
    "result_model = test_model(X_test, y_test, model_names,models,params, q=True)    \n",
    "    "
   ]
  },
  {
   "cell_type": "code",
   "execution_count": null,
   "metadata": {
    "collapsed": true
   },
   "outputs": [],
   "source": []
  },
  {
   "cell_type": "code",
   "execution_count": null,
   "metadata": {
    "collapsed": true
   },
   "outputs": [],
   "source": []
  },
  {
   "cell_type": "code",
   "execution_count": null,
   "metadata": {
    "collapsed": true
   },
   "outputs": [],
   "source": []
  },
  {
   "cell_type": "code",
   "execution_count": null,
   "metadata": {
    "collapsed": true
   },
   "outputs": [],
   "source": []
  },
  {
   "cell_type": "code",
   "execution_count": null,
   "metadata": {
    "collapsed": true
   },
   "outputs": [],
   "source": []
  },
  {
   "cell_type": "code",
   "execution_count": null,
   "metadata": {
    "collapsed": true
   },
   "outputs": [],
   "source": []
  }
 ],
 "metadata": {
  "kernelspec": {
   "display_name": "Python 2",
   "language": "python",
   "name": "python2"
  },
  "language_info": {
   "codemirror_mode": {
    "name": "ipython",
    "version": 2
   },
   "file_extension": ".py",
   "mimetype": "text/x-python",
   "name": "python",
   "nbconvert_exporter": "python",
   "pygments_lexer": "ipython2",
   "version": "2.7.13"
  }
 },
 "nbformat": 4,
 "nbformat_minor": 2
}
